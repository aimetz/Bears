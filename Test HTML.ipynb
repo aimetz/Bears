{
  "nbformat": 4,
  "nbformat_minor": 0,
  "metadata": {
    "colab": {
      "provenance": [],
      "authorship_tag": "ABX9TyMZxex53v93etkA6LJjZkxl",
      "include_colab_link": true
    },
    "kernelspec": {
      "name": "python3",
      "display_name": "Python 3"
    },
    "language_info": {
      "name": "python"
    }
  },
  "cells": [
    {
      "cell_type": "markdown",
      "metadata": {
        "id": "view-in-github",
        "colab_type": "text"
      },
      "source": [
        "<a href=\"https://colab.research.google.com/github/aimetz/Bears/blob/master/Test%20HTML.ipynb\" target=\"_parent\"><img src=\"https://colab.research.google.com/assets/colab-badge.svg\" alt=\"Open In Colab\"/></a>"
      ]
    },
    {
      "cell_type": "markdown",
      "source": [
        "#Title\n",
        "#####Author"
      ],
      "metadata": {
        "id": "c_EjGybGtEGa"
      }
    },
    {
      "cell_type": "code",
      "execution_count": 1,
      "metadata": {
        "colab": {
          "base_uri": "https://localhost:8080/"
        },
        "id": "PCY2emYCtCPK",
        "outputId": "47103989-6636-47e3-c41d-6a05323209e4"
      },
      "outputs": [
        {
          "output_type": "execute_result",
          "data": {
            "text/plain": [
              "12"
            ]
          },
          "metadata": {},
          "execution_count": 1
        }
      ],
      "source": [
        "4 * 3"
      ]
    },
    {
      "cell_type": "markdown",
      "source": [
        "$$ax + 3\\beta = 16$$"
      ],
      "metadata": {
        "id": "ACnpKOrvtP2z"
      }
    }
  ]
}